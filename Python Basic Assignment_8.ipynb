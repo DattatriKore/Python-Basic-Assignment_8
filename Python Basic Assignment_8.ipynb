{
 "cells": [
  {
   "cell_type": "markdown",
   "id": "f15d207a",
   "metadata": {},
   "source": [
    "Q.[1] : Is the Python Standard Library included with PyInputPlus?\n",
    "\n",
    "Ans:- PyInputPlus is not a part of the Python Standard Library, so you must install it separately using Pip. "
   ]
  },
  {
   "cell_type": "markdown",
   "id": "76b46161",
   "metadata": {},
   "source": [
    "Q.[2] : Why is PyInputPlus commonly imported with import pyinputplus as pypi?\n",
    "\n",
    "Ans:- You can import the module with import pyinputplus as pyip so that you can enter a shorter name when calling the module’s functions 3."
   ]
  },
  {
   "cell_type": "markdown",
   "id": "24230179",
   "metadata": {},
   "source": [
    "Q.[3] : How do you distinguish between inputInt() and inputFloat()?\n",
    "\n",
    "Ans:- The inputInt() function returns an int value, while the inputFloat() function returns a float value. This is the difference between returning 4 and 4.0."
   ]
  },
  {
   "cell_type": "markdown",
   "id": "438711a2",
   "metadata": {},
   "source": [
    "Q.[4] : Using PyInputPlus, how do you ensure that the user enters a whole number between 0 and 99?\n",
    "\n",
    "Ans:- Call pyip.inputint(min=0, max=99)."
   ]
  },
  {
   "cell_type": "markdown",
   "id": "e0410f0e",
   "metadata": {},
   "source": [
    "Q.[5] : What is transferred to the keyword arguments allowRegexes and blockRegexes?\n",
    "\n",
    "Ans:-The allowRegexes and blockRegexes keyword arguments take a list of regular expression strings to determine what the PyInputPlus function will accept or reject as valid input."
   ]
  },
  {
   "cell_type": "markdown",
   "id": "e0e6bdd7",
   "metadata": {},
   "source": [
    "Q.[6] : If a blank input is entered three times, what does inputStr(limit=3) do?\n",
    "    \n",
    "Ans:- A list of regex strings that are either explicitly allowed or denied"
   ]
  },
  {
   "cell_type": "markdown",
   "id": "6763a46d",
   "metadata": {},
   "source": [
    "Q.[7] : If blank input is entered three times, what does inputStr(limit=3, default=&#39;hello&#39;) do?\n",
    "\n",
    "Ans:-The function returns the value 'hello'."
   ]
  },
  {
   "cell_type": "code",
   "execution_count": null,
   "id": "98ecc422",
   "metadata": {},
   "outputs": [],
   "source": []
  }
 ],
 "metadata": {
  "kernelspec": {
   "display_name": "Python 3 (ipykernel)",
   "language": "python",
   "name": "python3"
  },
  "language_info": {
   "codemirror_mode": {
    "name": "ipython",
    "version": 3
   },
   "file_extension": ".py",
   "mimetype": "text/x-python",
   "name": "python",
   "nbconvert_exporter": "python",
   "pygments_lexer": "ipython3",
   "version": "3.9.12"
  }
 },
 "nbformat": 4,
 "nbformat_minor": 5
}
